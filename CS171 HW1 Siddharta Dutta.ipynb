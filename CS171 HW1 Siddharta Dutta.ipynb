{
  "cells": [
    {
      "cell_type": "markdown",
      "metadata": {
        "id": "UKc8K9_57UEz"
      },
      "source": [
        "# CS171-EE142 - Fall 2023 - Homework 1\n",
        "\n",
        "# Due: Wednesday, October 11, 2023 @ 11:59pm\n",
        "\n",
        "### Maximum points: 25 pts\n",
        "\n",
        "\n",
        "## Submit your solution to Gradescope:\n",
        "1. Submit a single PDF to **HW1**\n",
        "2. Submit your jupyter notebook to **HW1-code**\n",
        "\n",
        "**See the additional submission instructions at the end of this notebook**"
      ]
    },
    {
      "cell_type": "markdown",
      "metadata": {
        "id": "JL5tIX4c9z6s"
      },
      "source": [
        "\n",
        "## Enter your information below:\n",
        "\n",
        "### Your Name (submitter): Siddharta Dutta\n",
        "\n",
        "### Your student ID (submitter): 862292896\n",
        "    \n",
        "    \n",
        "<b>By submitting this notebook, I assert that the work below is my own work, completed for this course.  Except where explicitly cited, none of the portions of this notebook are duplicated from anyone else's work or my own previous work.</b>\n",
        "\n",
        "\n",
        "## Academic Integrity\n",
        "Each assignment should be done  individually. You may discuss general approaches with other students in the class, and ask questions to the TAs, but  you must only submit work that is yours . If you receive help by any external sources (other than the TA and the instructor), you must properly credit those sources, and if the help is significant, the appropriate grade reduction will be applied. If you fail to do so, the instructor and the TAs are obligated to take the appropriate actions outlined at http://conduct.ucr.edu/policies/academicintegrity.html . Please read carefully the UCR academic integrity policies included in the link.\n"
      ]
    },
    {
      "cell_type": "markdown",
      "metadata": {
        "id": "hsywQWEI8pzj"
      },
      "source": [
        "# Overview\n",
        "In this assignment you will refreash basic linear algebra like multiplication rules and norms.\n",
        "\n",
        "Please **do not use pre-defined functions** to solve the questions unless we specify them in the question descriptions. For example, **do not use `numpy.linalg.norm` to solve question 2 in this homework**, instead, you should understand the definition of the norm and be able to implement it with the basic operations.\n",
        "\n",
        "\n",
        "## Read *all* cells carefully and answer all parts\n"
      ]
    },
    {
      "cell_type": "markdown",
      "metadata": {
        "id": "BLZmOA_f_-M7"
      },
      "source": [
        "# Basic NumPy\n",
        "\n",
        "NumPy is a powerful numerical computing Python package.\n",
        "Below we will summarize some basic linear algebra operations you will need to complete this assignment."
      ]
    },
    {
      "cell_type": "markdown",
      "metadata": {
        "id": "UsPgepciAvbX"
      },
      "source": [
        "Before using `NumPy`, we need to import it at the very beggining of the script with:"
      ]
    },
    {
      "cell_type": "code",
      "execution_count": 1,
      "metadata": {
        "id": "nMBahbEpAs3T"
      },
      "outputs": [],
      "source": [
        "import numpy as np\n",
        "import math"
      ]
    },
    {
      "cell_type": "markdown",
      "metadata": {
        "id": "bgjdR9j9A70I"
      },
      "source": [
        "To create a vector/matrix, use `np.array()` that takes a python `list` as input and returns a vector/matrix variable that contains the same elements as in the `list`. Here are some examples on how to create vectors/matrices using `np.array`."
      ]
    },
    {
      "cell_type": "code",
      "execution_count": null,
      "metadata": {
        "colab": {
          "base_uri": "https://localhost:8080/"
        },
        "id": "7EFbxQ-QBgyU",
        "outputId": "b6154ca9-d769-442f-aebb-87795abb0763"
      },
      "outputs": [
        {
          "name": "stdout",
          "output_type": "stream",
          "text": [
            "Created vector: [1 2 3]\n",
            "\n",
            "Created matrix:\n",
            "[[ 1  2  3  4]\n",
            " [ 5  6  7  8]\n",
            " [ 9 10 11 12]]\n"
          ]
        }
      ],
      "source": [
        "# To create an vector:\n",
        "vector = [1,2,3]\n",
        "vector = np.array(vector)\n",
        "# or\n",
        "vector = np.array([1,2,3])\n",
        "print(f'Created vector: {vector}\\n')\n",
        "\n",
        "# To create an 3x4 matrix:\n",
        "matrix = [[1,2,3, 4],[5,6,7,8],[9,10,11,12]]\n",
        "matrix = np.array(matrix)\n",
        "# or\n",
        "matrix = np.array([[1,2,3, 4],[5,6,7,8],[9,10,11,12]])\n",
        "print(f'Created matrix:\\n{matrix}')"
      ]
    },
    {
      "cell_type": "markdown",
      "metadata": {
        "id": "7Fqy3m6ECUGt"
      },
      "source": [
        "To check the shape of `np.array` variables you created, use attribute `.shape`, so that you know you create the right vector/matrix you want."
      ]
    },
    {
      "cell_type": "code",
      "execution_count": null,
      "metadata": {
        "colab": {
          "base_uri": "https://localhost:8080/"
        },
        "id": "lmRZPBTGCxi7",
        "outputId": "bc4c73c2-b141-4548-e2e5-88596edb2999"
      },
      "outputs": [
        {
          "name": "stdout",
          "output_type": "stream",
          "text": [
            "Shape of vector: (3,)\n",
            "Shape of matrix: (3, 4)\n"
          ]
        }
      ],
      "source": [
        "print(f'Shape of vector: {vector.shape}')\n",
        "print(f'Shape of matrix: {matrix.shape}')"
      ]
    },
    {
      "cell_type": "markdown",
      "metadata": {
        "id": "iAFD7q6ZDpRf"
      },
      "source": [
        "To obtain the transpose of `np.array`, use attribute `.T`."
      ]
    },
    {
      "cell_type": "code",
      "execution_count": null,
      "metadata": {
        "colab": {
          "base_uri": "https://localhost:8080/"
        },
        "id": "34W9ZHO0Ddy6",
        "outputId": "cc3ad4df-19b6-4ecb-bcbf-d1a87cd25852"
      },
      "outputs": [
        {
          "name": "stdout",
          "output_type": "stream",
          "text": [
            "Transposed matrix:\n",
            "[[ 1  5  9]\n",
            " [ 2  6 10]\n",
            " [ 3  7 11]\n",
            " [ 4  8 12]]\n"
          ]
        }
      ],
      "source": [
        "print(f'Transposed matrix:\\n{matrix.T}')"
      ]
    },
    {
      "cell_type": "markdown",
      "metadata": {
        "id": "E1SQVdC6ECyL"
      },
      "source": [
        "To compute element-wise product between two matrices, use `*`. <br>\n",
        "To compute matrix multiplication between two matrices, use `@`."
      ]
    },
    {
      "cell_type": "code",
      "execution_count": null,
      "metadata": {
        "colab": {
          "base_uri": "https://localhost:8080/"
        },
        "id": "QLQi3z9EESsh",
        "outputId": "e379ce42-db17-47d2-970b-9d7473b3c2b9"
      },
      "outputs": [
        {
          "name": "stdout",
          "output_type": "stream",
          "text": [
            "Element-wise product:\n",
            "[[  1   4   9  16]\n",
            " [ 25  36  49  64]\n",
            " [ 81 100 121 144]]\n",
            "Matrix product:\n",
            "[[ 30  70 110]\n",
            " [ 70 174 278]\n",
            " [110 278 446]]\n"
          ]
        }
      ],
      "source": [
        "print(f'Element-wise product:\\n{matrix * matrix}')\n",
        "print(f'Matrix product:\\n{matrix @ matrix.T}')"
      ]
    },
    {
      "cell_type": "markdown",
      "metadata": {
        "id": "gPtXjCI2Evxl"
      },
      "source": [
        "To sum all the element of a vector, call `.sum()`"
      ]
    },
    {
      "cell_type": "code",
      "execution_count": null,
      "metadata": {
        "colab": {
          "base_uri": "https://localhost:8080/"
        },
        "id": "FzhiwnSqFHVW",
        "outputId": "9cdd1a84-2d87-4b50-8c23-c74348cf5897"
      },
      "outputs": [
        {
          "name": "stdout",
          "output_type": "stream",
          "text": [
            "Summation of vector elements: 6\n"
          ]
        }
      ],
      "source": [
        "print(f'Summation of vector elements: {vector.sum()}')"
      ]
    },
    {
      "cell_type": "markdown",
      "metadata": {
        "id": "tfOgs7n5FQni"
      },
      "source": [
        "For a matrix, we can perform summation along different dimensions using `axis` parameter. \\\n",
        "For example, summation along `axis=0` will give a row vector that is the sum of all the rows. In other words, first entry will be the summation of entries in the first column, second entry will be the summation of entries in the second column, and so on."
      ]
    },
    {
      "cell_type": "code",
      "execution_count": null,
      "metadata": {
        "colab": {
          "base_uri": "https://localhost:8080/"
        },
        "id": "WVKOoX_SFPWX",
        "outputId": "9fb8fd75-f0c9-4f4a-b381-b1965e3e21a5"
      },
      "outputs": [
        {
          "name": "stdout",
          "output_type": "stream",
          "text": [
            "Summation of matrix rows: [15 18 21 24]\n",
            "Summation of matrix columns: [10 26 42]\n",
            "Summation of matrix elements: 78\n"
          ]
        }
      ],
      "source": [
        "print(f'Summation of all the rows: {matrix.sum(axis=0)}')\n",
        "print(f'Summation of all the columns: {matrix.sum(axis=1)}')\n",
        "print(f'Summation of all the elements: {matrix.sum()}')"
      ]
    },
    {
      "cell_type": "markdown",
      "metadata": {
        "id": "1-xPE6bIEmRc"
      },
      "source": [
        "For more information on using NumPy, please refer to the [official documentation](https://numpy.org/doc/stable/). <br>\n",
        "Enjoy!"
      ]
    },
    {
      "cell_type": "markdown",
      "metadata": {
        "id": "B75oOA9NCMwg"
      },
      "source": [
        "# Basic linear algebra [25 pts]"
      ]
    },
    {
      "cell_type": "markdown",
      "metadata": {
        "id": "XRf-t_oPCRzH"
      },
      "source": [
        "## Question 1. Vector-matrix arithmetic [13 pts]"
      ]
    },
    {
      "cell_type": "markdown",
      "metadata": {
        "id": "h8kNTGRQ07Q5"
      },
      "source": [
        "#### 1.1. Element-wise product [2 pts]  \n",
        "The elementwise product of two matrices is called the Hadamard product and denoted as $\\odot$ (called `odot` notation). Suppose we are given two $m\\times n$ matrices as\n",
        "$$\n",
        "\\mathbf{A} =\n",
        "\\begin{bmatrix}\n",
        "a_{11} & a_{12} & \\dots & a_{1n} \\\\\n",
        "a_{21} & a_{22} & \\dots & a_{2n} \\\\\n",
        "\\vdots & \\vdots & \\ddots & \\vdots \\\\\n",
        "a_{m1} & a_{m2} & \\dots & a_{mn} \\\\\n",
        "\\end{bmatrix},\\\n",
        "\\mathbf{B} =\n",
        "\\begin{bmatrix}\n",
        "b_{11} & b_{12} & \\dots & b_{1n} \\\\\n",
        "b_{21} & b_{22} & \\dots & b_{2n} \\\\\n",
        "\\vdots & \\vdots & \\ddots & \\vdots \\\\\n",
        "b_{m1} & b_{m2} & \\dots & b_{mn} \\\\\n",
        "\\end{bmatrix}\n",
        "$$\n",
        "\n",
        "We can compute the Hadamard product of $\\mathbf{A},\\mathbf{B}$ as\n",
        "$$\n",
        "\\mathbf{A} \\odot \\mathbf{B} =\n",
        "\\begin{bmatrix}\n",
        "a_{11}b_{11} & a_{12}b_{12} & \\dots & a_{1n}b_{1n} \\\\\n",
        "a_{21}b_{21} & a_{22}b_{22} & \\dots & a_{2n}b_{2n} \\\\\n",
        "\\vdots & \\vdots & \\ddots & \\vdots \\\\\n",
        "a_{m1}b_{m1} & a_{m2}b_{m2} & \\dots & a_{mn}b_{mn} \\\\\n",
        "\\end{bmatrix}\n",
        "$$\n",
        "\n",
        "Create two matrices using `numpy.array` as\n",
        "$\\mathbf{A} = \\begin{bmatrix}\n",
        "5 & 0 & 7 \\\\\n",
        "6 & 1 & 3 \\\\\n",
        "5 & 9 & 3 \\\\\n",
        "\\end{bmatrix}$\n",
        "and\n",
        "$\\mathbf{B} = \\begin{bmatrix}\n",
        "1 & 0 & 2 \\\\\n",
        "0 & 2 & 1 \\\\\n",
        "1 & 1 & 2 \\\\\n",
        "\\end{bmatrix}$\n",
        "and compute $\\mathbf{A} \\odot \\mathbf{B}$.\n"
      ]
    },
    {
      "cell_type": "code",
      "execution_count": 3,
      "metadata": {
        "colab": {
          "base_uri": "https://localhost:8080/"
        },
        "id": "WRo7O-w0Vw1I",
        "outputId": "a6c9c568-ca12-4bd1-c514-7f0d0230f4b4"
      },
      "outputs": [
        {
          "name": "stdout",
          "output_type": "stream",
          "text": [
            "Hadamard product of A and B: [[ 5  0 14]\n",
            " [ 0  1  3]\n",
            " [ 5  9  6]]\n"
          ]
        }
      ],
      "source": [
        "# TODO: complete the code blocks below\n",
        "# Hint: to quickly comment/uncomment, select line(s) and press 'ctrl' + '/'.\n",
        "\n",
        "A = np.array([[5,0,7],[6,1,3],[5,9,3]])\n",
        "B = np.array([[1,0,2],[0,1,1],[1,1,2]])\n",
        "\n",
        "hadamard_product = A * B\n",
        "print(f'Hadamard product of A and B: {hadamard_product}')"
      ]
    },
    {
      "cell_type": "markdown",
      "metadata": {
        "id": "mbBFXU2_UGos"
      },
      "source": [
        "\n",
        "#### 1.2. Scalar or dot product [2 pts]  \n",
        "\n",
        "Scalar, dot, or inner product of two vectors $\\mathbf{x},\\mathbf{y}\\in\\mathbb{R}^d$ can be defined as the summation of the element-wise product of all the entries in two vectors:\n",
        "\n",
        "$$\\mathbf{x}^\\top\\mathbf{y} = \\langle\\mathbf{x}, \\mathbf{y}\\rangle =  \\sum_{i=1}^dx_iy_i.$$\n",
        "\n",
        "Now, create two length of 3 vectors **using any six digits from your student ID**.\n",
        "\n",
        "For instance, $\\mathbf{x} = \\begin{bmatrix}6 \\\\ 1 \\\\ 9\\end{bmatrix}$ and $\\mathbf{y} = \\begin{bmatrix}4 \\\\ 3 \\\\ 8\\end{bmatrix}$, and then compute $\\mathbf{x}^\\top\\mathbf{y}$.\n"
      ]
    },
    {
      "cell_type": "code",
      "execution_count": 4,
      "metadata": {
        "colab": {
          "base_uri": "https://localhost:8080/"
        },
        "id": "GmFNnvoaWutP",
        "outputId": "7ce4d25a-00ab-4725-dfb0-ae84fcb84b56"
      },
      "outputs": [
        {
          "name": "stdout",
          "output_type": "stream",
          "text": [
            "Inner product of x and y: 74\n"
          ]
        }
      ],
      "source": [
        "# TODO: complete the code blocks below\n",
        "x = np.array([[8],[6],[2]])\n",
        "y = np.array([[2],[9],[2]])\n",
        "\n",
        "inner_product = (x * y).sum()\n",
        "print(f'Inner product of x and y: {inner_product}')"
      ]
    },
    {
      "cell_type": "markdown",
      "metadata": {
        "id": "sRrq1fzLUJC5"
      },
      "source": [
        "#### 1.3. Matrix–vector products [3 pts] <br>\n",
        "Now that we know how to calculate dot products, we can begin to understand the product between an matrix $\\mathbf{A}$ and an $n$-dimensional vector $\\mathbf{x}$. To start off, we view our matrix in terms of its row vectors:\n",
        "$$\n",
        "\\mathbf{A} =\n",
        "\\begin{bmatrix}\n",
        "\\mathbf{a}_{1}^\\top\\\\\n",
        "\\mathbf{a}_{2}^\\top\\\\\n",
        "\\vdots\\\\\n",
        "\\mathbf{a}_{m}^\\top\\\\\n",
        "\\end{bmatrix},\n",
        "$$<br>\n",
        "where each $\\mathbf{a}_{i}^\\top\\in\\mathbb{R}^n$ is a row vector representing the $i^{\\textrm{th}}$ row of the matrix $\\mathbf{A}$.<br>\n",
        "The matrix–vector product $\\mathbf{Ax}$ is simply a column vector of length $m$, whose $i^{\\textrm{th}}$ element is the dot product $\\mathbf{a}_{i}^\\top\\mathbf{x}$:\n",
        "$$\n",
        "\\mathbf{Ax} =\n",
        "\\begin{bmatrix}\n",
        "\\mathbf{a}_{1}^\\top\\mathbf{x}\\\\\n",
        "\\mathbf{a}_{2}^\\top\\mathbf{x}\\\\\n",
        "\\vdots\\\\\n",
        "\\mathbf{a}_{m}^\\top\\mathbf{x}\\\\\n",
        "\\end{bmatrix}.\n",
        "$$<br>\n",
        "\n",
        "Compute the $\\mathbf{Ax}$ using values of $\\mathbf{A}$ and $\\mathbf{x}$ in 1.1 and 1.2."
      ]
    },
    {
      "cell_type": "code",
      "execution_count": 11,
      "metadata": {},
      "outputs": [
        {
          "name": "stdout",
          "output_type": "stream",
          "text": [
            "3\n"
          ]
        }
      ],
      "source": [
        "def dotProd(m1, m2):\n",
        "    # get dimensions\n",
        "    newMR = np.shape(m1)[0]     #3\n",
        "    newMC = np.shape(m2)[1]     #1\n",
        "\n",
        "    # make empty matrix\n",
        "    newM = np.empty([newMR, newMC])\n",
        "    \n",
        "    # based on rows, multipy + add\n",
        "    for np.shape(m1)[0]\n",
        "\n",
        "    pass\n",
        "\n",
        "dotProd(A, x)"
      ]
    },
    {
      "cell_type": "code",
      "execution_count": 13,
      "metadata": {
        "id": "ztRrdWwJW_3n"
      },
      "outputs": [
        {
          "name": "stdout",
          "output_type": "stream",
          "text": [
            "Product of A and x: [[93]\n",
            " [64]\n",
            " [66]]\n"
          ]
        }
      ],
      "source": [
        "# TODO: complete the code blocks below\n",
        "# Hint: you can use matrix-vector product in numpy using one operation\n",
        "\n",
        "mat_vec_product = A @ x\n",
        "\n",
        "print(f'Product of A and x: {mat_vec_product}')"
      ]
    },
    {
      "cell_type": "markdown",
      "metadata": {
        "id": "2X5ZzO2hUMHS"
      },
      "source": [
        "#### 1.4. Matrix–matrix multiplication [3 pts] <br>\n",
        "Suppose we have two matrix $\\mathbf{A}$ and $\\mathbf{B}$ that can be viewed as \"vector of vectors\", the same described as question 3:\n",
        "$$\n",
        "\\mathbf{A} =\n",
        "\\begin{bmatrix}\n",
        "\\mathbf{a}_{1}^\\top\\\\\n",
        "\\mathbf{a}_{2}^\\top\\\\\n",
        "\\vdots\\\\\n",
        "\\mathbf{a}_{m}^\\top\\\\\n",
        "\\end{bmatrix},\\quad\n",
        "\\mathbf{B} =\n",
        "\\begin{bmatrix}\n",
        "\\mathbf{b}_{1} & \\mathbf{b}_{2} & \\cdots & \\mathbf{b}_{n}\n",
        "\\end{bmatrix}.\n",
        "$$<br>\n",
        "To compute the matrix product $\\mathbf{C}\\in\\mathbb{R}^{m\\times n}$, we simply compute each element $c_{ij}$ as the dot product between the $i^{\\textrm{th}}$ row of $\\mathbf{A}$ and the $j^{\\textrm{th}}$ column of $\\mathbf{B}$, $\\textrm{i.e.},\\mathbf{a}_{i}^\\top\\mathbf{b}_{j}$:\n",
        "$$\n",
        "\\mathbf{AB} =\n",
        "\\begin{bmatrix}\n",
        "\\mathbf{a}_{1}^\\top\\mathbf{b}_{1} & \\mathbf{a}_{1}^\\top\\mathbf{b}_{2} & \\dots & \\mathbf{a}_{1}^\\top\\mathbf{b}_{n}\\\\\n",
        "\\mathbf{a}_{2}^\\top\\mathbf{b}_{1} & \\mathbf{a}_{2}^\\top\\mathbf{b}_{2} & \\dots & \\mathbf{a}_{2}^\\top\\mathbf{b}_{n}\\\\\n",
        "\\vdots & \\vdots & \\ddots & \\vdots\\\\\n",
        "\\mathbf{a}_{m}^\\top\\mathbf{b}_{1} & \\mathbf{a}_{m}^\\top\\mathbf{b}_{2} & \\dots & \\mathbf{a}_{m}^\\top\\mathbf{b}_{n}\\\\\n",
        "\\end{bmatrix}.\n",
        "$$<br>\n",
        "\n",
        "Compute the $\\mathbf{AB}$ with values given in 1.1, that is $\\mathbf{A} = \\begin{bmatrix}\n",
        "5 & 0 & 7 \\\\\n",
        "6 & 1 & 3 \\\\\n",
        "5 & 9 & 3 \\\\\n",
        "\\end{bmatrix}$\n",
        "and\n",
        "$\\mathbf{B} = \\begin{bmatrix}\n",
        "1 & 0 & 2 \\\\\n",
        "0 & 2 & 1 \\\\\n",
        "1 & 1 & 2 \\\\\n",
        "\\end{bmatrix}$."
      ]
    },
    {
      "cell_type": "code",
      "execution_count": 15,
      "metadata": {
        "id": "K6_mVVSEW63d"
      },
      "outputs": [
        {
          "name": "stdout",
          "output_type": "stream",
          "text": [
            "Product of A and B: [[12  7 24]\n",
            " [ 9  5 19]\n",
            " [ 8 21 25]]\n"
          ]
        }
      ],
      "source": [
        "# TODO: complete the code blocks below\n",
        "A = np.array([[5,0,7],[6,1,3],[5,9,3]])\n",
        "B = np.array([[1,0,2],[0,2,1],[1,1,2]])\n",
        "\n",
        "mat_product = A @ B\n",
        "print(f'Product of A and B: {mat_product}')"
      ]
    },
    {
      "cell_type": "markdown",
      "metadata": {
        "id": "p3v40C9bWcBF"
      },
      "source": [
        "#### 1.5. Hadamard and dot product validity [3 pts]\n",
        "\n",
        "Suppose we are given two vectors\n",
        "$$x = \\begin{bmatrix} 1 \\\\ 3 \\\\ 5\\end{bmatrix},\\ y =  \\begin{bmatrix} 2 \\\\ 4\\\\ 6 \\\\ 8 \\end{bmatrix}$$\n"
      ]
    },
    {
      "attachments": {},
      "cell_type": "markdown",
      "metadata": {
        "id": "6nsTTdjUHmDy"
      },
      "source": [
        "1. Can you compute the Hadamard product as $x\\odot y$? Why?\n",
        "\n",
        "    A. No because Hadamard products require matrices of the same size; both should be of dimensions m x n.\n",
        "2. Can you compute the dot/inner product as $x^\\top y$? Why?\n",
        "\n",
        "    A. No because dot/inner products are summations of Hadamard products and we cannot compute the Hadamard product.\n",
        "3. Can you compute matrix product as $xy^\\top$? Why?\n",
        "\n",
        "    A. No because to compute matrix products the number of columns of the first matrix must match the number of rows in the second matrix."
      ]
    },
    {
      "cell_type": "markdown",
      "metadata": {
        "id": "R7RCL1v1DMYZ"
      },
      "source": [
        "## Question 2. Norm, distance and similarity [12 pts]"
      ]
    },
    {
      "cell_type": "markdown",
      "metadata": {
        "id": "jSGRW_Ic1Cx6"
      },
      "source": [
        "#### 2.1. Norm of vector [6 pts]  \n",
        "\n",
        "\n",
        "<!-- ![norm](https://miro.medium.com/v2/resize:fit:480/1*ZreluxyiXJnjWNcEZ_HHSQ.png) -->\n",
        "\n",
        "The $\\ell_1$ norm is also common and the associated measure is called the Manhattan distance. By definition, the $\\ell_1$ norm sums the absolute values of a vector’s elements:\n",
        "$$\n",
        "\\|\\mathbf{x}\\|_1 = \\sum_{i=1}^n|x_i|,\n",
        "$$\n",
        "The $\\ell_2$ norm is also common and the associated measure is called the Euclidean distance. By definition, the $\\ell_2$ norm is the square root of summation of the square values of a vector’s elements:\n",
        "$$\n",
        "\\|\\mathbf{x}\\|_2 = \\sqrt{\\sum_{i=1}^n x_i^2},\n",
        "$$\n",
        "Both $\\ell_1$ and $\\ell_2$ norms can be represented in the more general $\\ell_p$ norms:\n",
        "$$\n",
        "\\|\\mathbf{x}\\|_p = \\left(\\sum_{i=1}^n|x_i|^p\\right)^{1/p},\n",
        "$$\n",
        "\n",
        "\n",
        "Now, create two length of 3 vectors **using any six digits from your student ID** (feel free to use the same vecotrs from the previous question).\n",
        "\n",
        "For instance, $\\mathbf{x} = \\begin{bmatrix}6 \\\\ 1 \\\\ 9\\end{bmatrix}$ and $\\mathbf{y} = \\begin{bmatrix}4 \\\\ 3 \\\\ 8\\end{bmatrix}$, and then compute the $\\ell_1$ and $\\ell_2$ norms of vectors $\\mathbf{x}$ and $\\mathbf{y}$.\n",
        "\n",
        "\n",
        "(* Please **do not use pre-defined functions** to solve the question, in this question you cannot use `numpy.linalg.norm` to skip the job)"
      ]
    },
    {
      "cell_type": "code",
      "execution_count": 8,
      "metadata": {
        "id": "-uBb9UcH1kyT"
      },
      "outputs": [
        {
          "name": "stdout",
          "output_type": "stream",
          "text": [
            "l1 norm of x: 16, l2 norm of x: 4.0\n",
            "l1 norm of y: 13, l2 norm of y: 3.605551275463989\n"
          ]
        }
      ],
      "source": [
        "# TODO: complete the code blocks below\n",
        "\n",
        "l1_x = np.sum(np.absolute(x))\n",
        "l2_x = np.sqrt(l1_x)\n",
        "print(f'l1 norm of x: {l1_x}, l2 norm of x: {l2_x}')\n",
        "\n",
        "l1_y = np.sum(np.absolute(y))\n",
        "l2_y = np.sqrt(l1_y)\n",
        "print(f'l1 norm of y: {l1_y}, l2 norm of y: {l2_y}')"
      ]
    },
    {
      "cell_type": "markdown",
      "metadata": {
        "id": "jyj4Eudz1nuA"
      },
      "source": [
        "#### 2.2. Distance [3 pts]  \n",
        "\n",
        "\n",
        "The $\\ell_p$ distance between two vectors $\\mathbf{x}_i, \\mathbf{x}_j \\in \\mathbb{R}^n$ can be written as  \n",
        "$$\\|\\mathbf{x}_i - \\mathbf{x}_j\\|_p = \\left(\\sum_{k=1}^n |\\mathbf{x}_i(k) - \\mathbf{x}_j(k)|^p\\right)^{1/p}, $$\n",
        "which is the $\\ell_p$ norm of vector $\\mathbf{x}_i- \\mathbf{x}_j$.\n",
        "\n",
        "\n",
        "Now, create two length of 3 vectors **using any six digits from your student ID** (feel free to use the same vecotrs from the previous question).\n",
        "\n",
        "\n",
        "For instance, $\\mathbf{x} = \\begin{bmatrix}6 \\\\ 1 \\\\ 9\\end{bmatrix}$ and $\\mathbf{y} = \\begin{bmatrix}4 \\\\ 3 \\\\ 8\\end{bmatrix}$, and then compute the $\\ell_1$ and $\\ell_2$ distance between vectors $\\mathbf{x}$ and $\\mathbf{y}$."
      ]
    },
    {
      "cell_type": "code",
      "execution_count": 9,
      "metadata": {
        "id": "AFbAn5J9_J_S"
      },
      "outputs": [
        {
          "name": "stdout",
          "output_type": "stream",
          "text": [
            "l1 distance between x y: 9\n",
            "l2 distance between x y: 3.0\n"
          ]
        }
      ],
      "source": [
        "# TODO: complete the code blocks below\n",
        "\n",
        "l1_xy = np.sum(np.absolute(np.subtract(x,y)))\n",
        "l2_xy = np.sqrt(l1_xy)\n",
        "print(f'l1 distance between x y: {l1_xy}')\n",
        "print(f'l2 distance between x y: {l2_xy}')"
      ]
    },
    {
      "cell_type": "markdown",
      "metadata": {
        "id": "VUYJwe0X17Un"
      },
      "source": [
        "#### 2.3. Similarity [3 pts]\n",
        "\n",
        "\n",
        "To measures the similarity between two vectors of an inner product space, the commly used metric is the *cosine similarity*. The cosine similarity between two vectors $\\mathbf{x}_i, \\mathbf{x}_j \\in \\mathbb{R}^n$ define as:\n",
        "$$\n",
        "\\mathrm{cos}\\theta = \\frac{\\mathbf{x}_i^\\top  \\mathbf{x}_j}{\\|\\mathbf{x}_i\\|_2 \\|\\mathbf{x}_j\\|_2} =\n",
        "\\frac{\\sum_{k=1}^n\\mathbf{x}_i(k)\\mathbf{x}_j(k)}{\\sqrt{\\sum_{k=1}^n\\mathbf{x}_i(k)^2\\cdot\\sum_{i=1}^n\\mathbf{x}_j(k)^2}}.\n",
        "$$\n",
        "In $2$-D case, the cosine similarity between two vectors is the cosine value of the angle formed by the vectors.\n",
        "\n",
        "\n",
        "Now, create two length of 3 vectors **using any six digits from your student ID** (feel free to use the same vecotrs from the previous question).\n",
        "\n",
        "\n",
        "For instance, $\\mathbf{x} = \\begin{bmatrix}6 \\\\ 1 \\\\ 9\\end{bmatrix}$ and $\\mathbf{y} = \\begin{bmatrix}4 \\\\ 3 \\\\ 8\\end{bmatrix}$, and then compute cosine similarity between vectors $\\mathbf{x}$ and $\\mathbf{y}$."
      ]
    },
    {
      "cell_type": "code",
      "execution_count": 7,
      "metadata": {
        "id": "oEONcLjO17jx"
      },
      "outputs": [
        {
          "name": "stdout",
          "output_type": "stream",
          "text": [
            "Cosine similarity between x y: 5.130976815083369\n"
          ]
        }
      ],
      "source": [
        "# TODO: complete the code blocks below\n",
        "\n",
        "cos_xy = ((x * y).sum())/(l2_x * l2_y)\n",
        "print(f'Cosine similarity between x y: {cos_xy}')"
      ]
    },
    {
      "cell_type": "markdown",
      "metadata": {
        "id": "EvKaIDEkX0jZ"
      },
      "source": [
        "---\n",
        "## Submission instructions\n",
        "1. Download this Colab to ipynb, and convert it to PDF. Follow similar steps as [here](https://stackoverflow.com/questions/53460051/convert-ipynb-notebook-to-html-in-google-colab) but convert to PDF.\n",
        " - Download your .ipynb file. You can do it using only Google Colab. `File` -> `Download` -> `Download .ipynb`\n",
        " - Reupload it so Colab can see it. Click on the `Files` icon on the far left to expand the side bar. You can directly drag the downloaded .ipynb file to the area. Or click `Upload to session storage` icon and then select & upload your .ipynb file.\n",
        " - Conversion using %%shell.\n",
        " ```\n",
        "!sudo apt-get update\n",
        "!sudo apt-get install texlive-xetex texlive-fonts-recommended texlive-plain-generic\n",
        "!jupyter nbconvert --log-level CRITICAL --to pdf name_of_hw.ipynb\n",
        "  ```\n",
        " - Your PDF file is ready. Click 3 dots and `Download`.\n",
        "\n",
        "\n",
        "  \n",
        "\n",
        "2. Upload the PDF to Gradescope, select the correct pdf pages for each question. **Important!**\n",
        "\n",
        "3. Upload the ipynb file to Gradescope\n",
        "\n",
        "\n",
        "Notice:\n",
        "In case of errors in conversion, please check your LaTeX and debug. In Markdown, when you write in LaTeX math mode, do not leave any leading and trailing whitespaces inside the dollar signs ($). For example, write `(dollarSign)\\mathbf(dollarSign)(dollarSign)` instead of `(dollarSign)(space)\\mathbf{w}(dollarSign)`. Otherwise, nbconvert will throw an error and the generated pdf will be incomplete.\n",
        "\n",
        "[This is a bug of nbconvert.](https://tex.stackexchange.com/questions/367176/jupyter-notebook-latex-conversion-fails-escaped-and-other-symbols)\n"
      ]
    },
    {
      "cell_type": "code",
      "execution_count": null,
      "metadata": {
        "id": "jdyFU83rX0jZ"
      },
      "outputs": [],
      "source": [
        "!sudo apt-get update\n",
        "!sudo apt-get install texlive-xetex texlive-fonts-recommended texlive-plain-generic"
      ]
    },
    {
      "cell_type": "code",
      "execution_count": null,
      "metadata": {
        "id": "M2XuF-qZ_-fk"
      },
      "outputs": [],
      "source": [
        "!jupyter nbconvert --log-level CRITICAL --to pdf fall2023_hw1.ipynb # make sure the ipynb name is correct"
      ]
    }
  ],
  "metadata": {
    "colab": {
      "provenance": []
    },
    "kernelspec": {
      "display_name": "Python 3",
      "name": "python3"
    },
    "language_info": {
      "codemirror_mode": {
        "name": "ipython",
        "version": 3
      },
      "file_extension": ".py",
      "mimetype": "text/x-python",
      "name": "python",
      "nbconvert_exporter": "python",
      "pygments_lexer": "ipython3",
      "version": "3.11.5"
    }
  },
  "nbformat": 4,
  "nbformat_minor": 0
}
